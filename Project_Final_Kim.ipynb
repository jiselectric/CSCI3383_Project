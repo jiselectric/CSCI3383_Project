{
 "cells": [
  {
   "cell_type": "markdown",
   "metadata": {},
   "source": [
    "# Final Project "
   ]
  },
  {
   "cell_type": "code",
   "execution_count": 3,
   "metadata": {},
   "outputs": [],
   "source": [
    "from math import inf"
   ]
  },
  {
   "cell_type": "markdown",
   "metadata": {},
   "source": [
    "You will use the following class to represent vertices in your graph. A vertex has an identifier, and it can also have a set of attributes. An identifier is almost like an attribute, except that it needs to be provided to create a vertex."
   ]
  },
  {
   "cell_type": "code",
   "execution_count": 53,
   "metadata": {},
   "outputs": [],
   "source": [
    "class Vertex:\n",
    "    \n",
    "    def __init__(self,id):\n",
    "        self.attributes = {}\n",
    "        self.attributes['id'] = id\n",
    "        \n",
    "    def __str__(self):\n",
    "        return str(self.attributes)\n",
    "        \n",
    "    def new_copy(self):\n",
    "        return Vertex(self.attributes['id'])\n",
    "        \n",
    "    def set(self,key,value):\n",
    "        self.attributes[key] = value\n",
    "        \n",
    "    def get(self,key):\n",
    "        return self.attributes[key]"
   ]
  },
  {
   "cell_type": "code",
   "execution_count": 54,
   "metadata": {},
   "outputs": [],
   "source": [
    "class Graph:\n",
    "    \n",
    "    def __init__(self):\n",
    "        self.vertices = {}\n",
    "        self.id_to_v = {}\n",
    "    \n",
    "    def __str__(self):\n",
    "        s = ''\n",
    "        for v in self.vertices:\n",
    "            s += str(v)\n",
    "            s += '\\n\\n'\n",
    "        return s\n",
    "    \n",
    "    def add_vertex(self,v):\n",
    "        self.vertices[v] = []\n",
    "        self.id_to_v[v.get('id')] = v\n",
    "    \n",
    "    def size_vertices(self):\n",
    "        return len(self.vertices)\n",
    "    \n",
    "    def add_edge(self,v1,v2):\n",
    "        pass\n",
    "    \n",
    "    def adjacent(self,v):\n",
    "        return self.vertices[v]\n",
    "    \n",
    "    def BFS(self,start):\n",
    "        assert(isinstance(start,Vertex))\n",
    "        result = []\n",
    "        \n",
    "        start.set('color','gray')\n",
    "        start.set('d',0)\n",
    "        start.set('parent',None)\n",
    "        \n",
    "        for v in self.vertices:\n",
    "            if v == start:\n",
    "                continue\n",
    "            \n",
    "            v.set('color','white')\n",
    "            v.set('d',inf)\n",
    "            v.set('parent',None)\n",
    "        \n",
    "        queue = []\n",
    "        queue.append(start)\n",
    "        \n",
    "        while len(queue) != 0:\n",
    "            \n",
    "            u = queue.pop(0)\n",
    "            \n",
    "            for v in self.adjacent(u):\n",
    "                \n",
    "                if v.get('color') == 'white':\n",
    "                    \n",
    "                    v.set('color','gray')\n",
    "                    v.set('d',u.get('d') + 1)\n",
    "                    v.set('parent',u)\n",
    "                    \n",
    "                    queue.append(v)\n",
    "                    \n",
    "            u.set('color','black')\n",
    "            result.append(u.get('id'))\n",
    "\n",
    "        return result\n",
    "    \n",
    "    def DFS_Visit(self,u,time):\n",
    "        \n",
    "        time += 1\n",
    "        u.set('d',time)\n",
    "        u.set('color','gray')\n",
    "    \n",
    "        for v in self.adjacent(u):\n",
    "            \n",
    "            if v.get('color') == 'white':\n",
    "                v.set('parent',u)\n",
    "                time = self.DFS_Visit(v,time)\n",
    "    \n",
    "        u.set('color','black')\n",
    "        time += 1\n",
    "        u.set('f',time)\n",
    "    \n",
    "        return time\n",
    "    \n",
    "    def DFS(self):\n",
    "        \n",
    "        for v in self.vertices:\n",
    "            \n",
    "            v.set('color','white')\n",
    "            v.set('parent',None)\n",
    "            \n",
    "        time = 0\n",
    "        \n",
    "        for v in self.vertices:\n",
    "            \n",
    "            if v.get('color') == 'white':\n",
    "                time = self.DFS_Visit(v,time)         "
   ]
  },
  {
   "cell_type": "markdown",
   "metadata": {},
   "source": [
    "Your library will provide undirected graphs. Note that you may not change the name of the class, but you can change its inheritance, and you will need to add methods. "
   ]
  },
  {
   "cell_type": "code",
   "execution_count": 55,
   "metadata": {},
   "outputs": [],
   "source": [
    "class UndirectedGraph(Graph):\n",
    "        \n",
    "    def add_edge(self,v1,v2):\n",
    "        self.vertices[v1].append(v2)\n",
    "        self.vertices[v2].append(v1)"
   ]
  },
  {
   "cell_type": "markdown",
   "metadata": {},
   "source": [
    "Likewise, your library will provide directed graphs."
   ]
  },
  {
   "cell_type": "code",
   "execution_count": 56,
   "metadata": {},
   "outputs": [],
   "source": [
    "class DirectedGraph(Graph):\n",
    "        \n",
    "    def add_edge(self,v1,v2):\n",
    "        self.vertices[v1].append(v2)\n",
    "        \n",
    "    def transpose(self):\n",
    "        GT = DirectedGraph()\n",
    "        \n",
    "        for v in self.vertices:\n",
    "            GT.add_vertex(v)\n",
    "            \n",
    "        for v in self.vertices:\n",
    "            for u in self.adjacent(v):\n",
    "                GT.add_edge(u,v)\n",
    "        \n",
    "        return GT\n",
    "        \n",
    "    def acyclic(self):\n",
    "        found_BE = False\n",
    "        \n",
    "        for u in self.vertices:\n",
    "            for v in self.adjacent(u):\n",
    "                b1 = v.get('d') <= u.get('d')\n",
    "                b2 = u.get('d') < u.get('f')\n",
    "                b3 = u.get('f') <= v.get('f')\n",
    "                if b1 and b2 and b3: \n",
    "                    found_BE = True\n",
    "                    \n",
    "        return not found_BE\n",
    "        \n",
    "    def topological_sort(self):\n",
    "        self.DFS()\n",
    "        if self.acyclic():\n",
    "            result = sorted(self.vertices,key=lambda v: v.get('f'),reverse=True)\n",
    "            return list(map(lambda v: v.get('id'),result))\n",
    "        else:\n",
    "            return None"
   ]
  },
  {
   "cell_type": "markdown",
   "metadata": {},
   "source": [
    "Both kinds of graphs should have an API that allows us to create new graphs. First, there should be a method 'add_vertex' that takes a vertex as an input and adds it to the graph. Second, there should be a method 'add_edge' that takes two vertices and adds an edge between them in the graph. For example, your implementation should work with the following codes."
   ]
  },
  {
   "cell_type": "code",
   "execution_count": 57,
   "metadata": {},
   "outputs": [],
   "source": [
    "def create_graph_1():\n",
    "    G = UndirectedGraph()\n",
    "\n",
    "    for i in ['r','s','t','u','v','w','x','y']:\n",
    "        G.add_vertex(Vertex(i))\n",
    "    \n",
    "    for (v1,v2) in [('v','r'),('r','s'),('s','w'),\n",
    "              ('w','t'),('w','x'),('t','x'),\n",
    "              ('t','u'),('x','u'),('x','y'),('u','y')]:\n",
    "    \n",
    "        G.add_edge(G.id_to_v[v1],G.id_to_v[v2])\n",
    "    \n",
    "    return G"
   ]
  },
  {
   "cell_type": "code",
   "execution_count": 58,
   "metadata": {},
   "outputs": [],
   "source": [
    "G1 = create_graph_1()"
   ]
  },
  {
   "cell_type": "code",
   "execution_count": 59,
   "metadata": {},
   "outputs": [],
   "source": [
    "def create_graph_2():\n",
    "    G = DirectedGraph()\n",
    "    \n",
    "    for i in ['u','v','w','x','y','z']:\n",
    "        G.add_vertex(Vertex(i))\n",
    "        \n",
    "    for (v1,v2) in [('u','x'),('u','v'),('x','v'),('v','y'),\n",
    "                    ('y','x'),('w','y'),('w','z'),('z','z')]:\n",
    "        \n",
    "        G.add_edge(G.id_to_v[v1],G.id_to_v[v2])\n",
    "        \n",
    "    return G"
   ]
  },
  {
   "cell_type": "code",
   "execution_count": 60,
   "metadata": {},
   "outputs": [],
   "source": [
    "G2 = create_graph_2()"
   ]
  },
  {
   "cell_type": "code",
   "execution_count": 61,
   "metadata": {},
   "outputs": [],
   "source": [
    "def create_graph_3():\n",
    "    G = DirectedGraph()\n",
    "    \n",
    "    for i in ['u','v','w','x','y','z']:\n",
    "        G.add_vertex(Vertex(i))\n",
    "        \n",
    "    for (v1,v2) in [('u','x'),('u','v'),('v','y'),\n",
    "                    ('y','x'),('w','y'),('w','z')]:\n",
    "        \n",
    "        G.add_edge(G.id_to_v[v1],G.id_to_v[v2])\n",
    "        \n",
    "    return G    "
   ]
  },
  {
   "cell_type": "code",
   "execution_count": 62,
   "metadata": {},
   "outputs": [],
   "source": [
    "G3 = create_graph_3()"
   ]
  },
  {
   "cell_type": "markdown",
   "metadata": {},
   "source": [
    "Please note two important things. First, the methods add_vertex and add_edge do not return a new graph, instead they update the graph in-place. Second, in the graph implementation, you need to work with vertex objects, and not their identifier. It means that to interface with the graph, the graph needs to provide a dictionnary 'id_to_v' that keeps track of which identifier corresponds to which vertex."
   ]
  },
  {
   "cell_type": "markdown",
   "metadata": {},
   "source": [
    "**Problem 1: (20 points)** Implement Breads-First Search (BFS) for both kinds of graphs. The BFS method takes a vertex as an argument and should return a list of identifiers. Note that there can be more than one right answer. *The following call should work.*"
   ]
  },
  {
   "cell_type": "code",
   "execution_count": 63,
   "metadata": {},
   "outputs": [
    {
     "data": {
      "text/plain": [
       "['s', 'r', 'w', 'v', 't', 'x', 'u', 'y']"
      ]
     },
     "execution_count": 63,
     "metadata": {},
     "output_type": "execute_result"
    }
   ],
   "source": [
    "G1.BFS(G1.id_to_v['s'])"
   ]
  },
  {
   "cell_type": "markdown",
   "metadata": {},
   "source": [
    "**Problem 2: (20 points)** Implement Depth-First Search (BFS) for both kinds of graphs. The DFS method takes no arguments and does not return anything. Instead, the DFS method should timestamp the vertices. *The following call should work.*"
   ]
  },
  {
   "cell_type": "code",
   "execution_count": 64,
   "metadata": {},
   "outputs": [],
   "source": [
    "G2.DFS()"
   ]
  },
  {
   "cell_type": "markdown",
   "metadata": {},
   "source": [
    "**Problem 3: (20 points)** Implement a method to test if a directed graph is acyclic. The methods takes no argument but returns a boolean. *The following call should work.*"
   ]
  },
  {
   "cell_type": "code",
   "execution_count": 65,
   "metadata": {},
   "outputs": [
    {
     "data": {
      "text/plain": [
       "True"
      ]
     },
     "execution_count": 65,
     "metadata": {},
     "output_type": "execute_result"
    }
   ],
   "source": [
    "G3.DFS()\n",
    "G3.acyclic()"
   ]
  },
  {
   "cell_type": "markdown",
   "metadata": {},
   "source": [
    "**Problem 4: (20 points)** Implement a method that computes a topological sort for a directed graph. The method takes no arguments and returns a list of identifiers. *The following call should work.*"
   ]
  },
  {
   "cell_type": "code",
   "execution_count": 66,
   "metadata": {},
   "outputs": [
    {
     "data": {
      "text/plain": [
       "['w', 'z', 'u', 'v', 'y', 'x']"
      ]
     },
     "execution_count": 66,
     "metadata": {},
     "output_type": "execute_result"
    }
   ],
   "source": [
    "G3.topological_sort()"
   ]
  },
  {
   "cell_type": "markdown",
   "metadata": {},
   "source": [
    "#### Kosaraju Algorithm"
   ]
  },
  {
   "cell_type": "code",
   "execution_count": 67,
   "metadata": {},
   "outputs": [],
   "source": [
    "class KosarajuGraph(DirectedGraph): # customized graph to apply Kosaraju Algorithm\n",
    "    def __init__(self):\n",
    "        super().__init__()\n",
    "        self.stack = []\n",
    "        \n",
    "    def transpose(self):\n",
    "        # self : original Graph, GT : transposed Graph \n",
    "        GT = KosarajuGraph()\n",
    "        \n",
    "        for v in self.vertices:\n",
    "            # v : original vertex, gv : new vertex with identical value to original vertex (for GT)             \n",
    "            gv = Vertex(v.get('id'))\n",
    "            \n",
    "            GT.add_vertex(gv)\n",
    "            \n",
    "        for gv in GT.vertices:\n",
    "            v = self.id_to_v[gv.get('id')]\n",
    "            for u in self.adjacent(v):\n",
    "                gu = GT.id_to_v[u.get('id')]\n",
    "                GT.add_edge(gu,gv)\n",
    "        \n",
    "        return GT\n",
    "        \n",
    "        \n",
    "    def get_stack(self):\n",
    "        return self.stack\n",
    "    \n",
    "    def init_vertex(self):\n",
    "        for v in self.vertices:            \n",
    "            v.set('color', 'white')\n",
    "            v.set('parent', None)\n",
    "    \n",
    "    def DFS_Visit(self,u,time):\n",
    "        \n",
    "        time += 1\n",
    "        u.set('d',time)\n",
    "        u.set('color','gray')\n",
    "    \n",
    "        for v in self.adjacent(u):\n",
    "            \n",
    "            if v.get('color') == 'white':\n",
    "                v.set('parent',u)\n",
    "                time = self.DFS_Visit(v,time)\n",
    "    \n",
    "        u.set('color','black')\n",
    "        time += 1\n",
    "        u.set('f',time)\n",
    "\n",
    "        self.stack.append(u)\n",
    "        return time\n",
    "    \n",
    "    def T_Visit(self, u):\n",
    "        u.set('color','gray')\n",
    "        self.stack.append(u)\n",
    "        for v in self.adjacent(u):            \n",
    "            if v.get('color') == 'white':\n",
    "                v.set('parent',u)\n",
    "                self.T_Visit(v)\n",
    "    \n",
    "        u.set('color','black')\n",
    "\n",
    "class WeightedUndirectedGraph(UndirectedGraph):\n",
    "    def __init__(self):\n",
    "        super().__init__()\n",
    "        self.weights = {}    \n",
    "    \n",
    "    def add_edge(self, v1, v2, weight):\n",
    "        super().add_edge(v1, v2)\n",
    "        self.weights[(v1,v2)] = weight\n",
    "        self.weights[(v2,v1)] = weight\n",
    "        \n",
    "    \n",
    "class WeightedDirectedGraph(DirectedGraph):\n",
    "    class _MinHeap:\n",
    "        def __init__(self):\n",
    "            self.heap_list = [0]\n",
    "            self.id = [0]\n",
    "            self.current_size = 0\n",
    "\n",
    "        def swim(self, i):\n",
    "            while i // 2 > 0:\n",
    "                if self.heap_list[i] < self.heap_list[i // 2]:\n",
    "                    self.heap_list[i], self.heap_list[i // 2] = self.heap_list[i // 2], self.heap_list[i]\n",
    "                    self.id[i], self.id[i // 2] = self.id[i // 2], self.id[i]\n",
    "                i = i // 2\n",
    "\n",
    "        def insert(self, k, id):\n",
    "            self.heap_list.append(k)\n",
    "            self.id.append(id)\n",
    "            self.current_size += 1\n",
    "            self.swim(self.current_size)\n",
    "\n",
    "        def min_child(self, i):\n",
    "            if (i * 2)+1 > self.current_size:\n",
    "                return i * 2\n",
    "            else:\n",
    "                if self.heap_list[i*2] < self.heap_list[(i*2)+1]:\n",
    "                    return i * 2\n",
    "                else:\n",
    "                    return (i * 2) + 1        \n",
    "\n",
    "        def sink(self, i):\n",
    "            while (i * 2) <= self.current_size:\n",
    "                mc = self.min_child(i)\n",
    "                if self.heap_list[i] > self.heap_list[mc]:\n",
    "                    self.heap_list[i], self.heap_list[mc] = self.heap_list[mc], self.heap_list[i]\n",
    "                    self.id[i], self.id[mc] = self.id[mc], self.id[i]\n",
    "                i = mc\n",
    "\n",
    "        def delete_min(self):\n",
    "            if len(self.heap_list) == 1:\n",
    "                return None\n",
    "\n",
    "            root = self.heap_list[1]\n",
    "            root_id = self.id[1]\n",
    "            self.heap_list[1] = self.heap_list[self.current_size]\n",
    "            self.id[1] = self.id[self.current_size]\n",
    "            *self.heap_list, _ = self.heap_list\n",
    "            *self.id, _ = self.id\n",
    "            self.current_size -= 1\n",
    "            self.sink(1)\n",
    "            return (root, root_id)    \n",
    "\n",
    "    def __init__(self):\n",
    "        super().__init__()\n",
    "        self.weights = {}\n",
    "        self.heap = self._MinHeap()\n",
    "        \n",
    "    def add_edge(self, v1, v2, weight):\n",
    "        super().add_edge(v1, v2)\n",
    "        self.weights[(v1,v2)] = weight\n"
   ]
  },
  {
   "cell_type": "code",
   "execution_count": 68,
   "metadata": {},
   "outputs": [],
   "source": [
    "class SCC:\n",
    "    def __init__(self):\n",
    "        self.group = []\n",
    "\n",
    "    def append(self, stack, G):\n",
    "        subGraph = KosarajuGraph()\n",
    "        \n",
    "        for v in stack:\n",
    "            sv = Vertex(v.get('id'))\n",
    "            subGraph.add_vertex(sv)\n",
    "\n",
    "        for sv in subGraph.vertices:\n",
    "            v = G.id_to_v[sv.get('id')]\n",
    "            \n",
    "            for u in G.adjacent(v):\n",
    "                if u.get('id') in subGraph.id_to_v:\n",
    "                    su = subGraph.id_to_v[u.get('id')]\n",
    "                    subGraph.add_edge(sv,su)\n",
    "                    \n",
    "        self.group.append(subGraph)\n",
    "    \n",
    "    def __getitem__(self, i):\n",
    "        return self.group[i]\n",
    "    \n",
    "    def __repr__(self):\n",
    "        result = \"<SCC.kosaraju.Algrothms>\\n\"\n",
    "        result += self.__str__()\n",
    "        \n",
    "        return result\n",
    "\n",
    "    def __len__(self):\n",
    "        return len(self.group)\n",
    "    \n",
    "    def __str__(self):\n",
    "        result = \"\"\n",
    "        \n",
    "        result += \"# of SCC : {0}\\n\".format(len(self.group))\n",
    "        result += \"---------\\n\"\n",
    "        result += \"SCC \\n\"\n",
    "        result += \"---------\\n\"\n",
    "        \n",
    "        for g in self.group:\n",
    "            for s in g.vertices:\n",
    "                ts = g.vertices[s]\n",
    "                if len(ts) == 0:\n",
    "                    result += \"{}\\n\".format(s.get('id'))\n",
    "                for t in ts:\n",
    "                    result += \"{} -> {}\\n\".format(s.get('id'), t.get('id'))\n",
    "                    \n",
    "            result += \"---------\\n\"\n",
    "            \n",
    "        return result\n",
    "    \n",
    "class MinimumSpanningTree:\n",
    "    def __init__(self):\n",
    "        self.edges = []\n",
    "        self.weights = []\n",
    "\n",
    "    def append(self, v1, v2, w):\n",
    "        self.edges.append((v1, v2))\n",
    "        self.weights.append(w)\n",
    "        \n",
    "    def __repr__(self):\n",
    "        result = \"<MST.kruskal.Algrothms>\\n\"\n",
    "        result += self.__str__()\n",
    "        \n",
    "        return result\n",
    "\n",
    "    def __len__(self):\n",
    "        return len(self.edges)\n",
    "    \n",
    "    def __str__(self):\n",
    "        result = \"\"\n",
    "        \n",
    "        result += \"Total cost of MST : {0}\\n\".format(sum(self.weights))\n",
    "        result += \"---------\\n\"\n",
    "        result += \"MST \\n\"\n",
    "        result += \"---------\\n\"\n",
    "\n",
    "        for w, (s, t) in zip(self.weights, self.edges):\n",
    "            result += \"{} --({})-- {}\\n\".format(s, w, t)                    \n",
    "            \n",
    "        return result\n"
   ]
  },
  {
   "cell_type": "code",
   "execution_count": 69,
   "metadata": {},
   "outputs": [],
   "source": [
    "class Algorithms:\n",
    "    class _Sets:\n",
    "        def __init__(self, vertices):\n",
    "            self.sets = [set([v.get('id')]) for v in vertices]\n",
    "        \n",
    "        def find_set(self, x):\n",
    "            for s in self.sets:\n",
    "                if x in s:\n",
    "                    return s\n",
    "\n",
    "        def union_set(self, s1, s2):\n",
    "            memory = 0\n",
    "            for i, s in enumerate(self.sets):\n",
    "                if s == s1:\n",
    "                    memory = i\n",
    "            self.sets.pop(memory)\n",
    "            memory = 0\n",
    "            for i, s in enumerate(self.sets):\n",
    "                if s == s2:\n",
    "                    memory = i\n",
    "            self.sets.pop(memory)\n",
    "            self.sets.append(s1 | s2)\n",
    "    \n",
    "    def __init__(self):\n",
    "        pass\n",
    "    \n",
    "    def kosaraju(self, G):\n",
    "        assert isinstance(G, KosarajuGraph), \"Given graph is not a directed graph\"\n",
    "        scc = SCC()\n",
    "        \n",
    "        T = G.transpose()\n",
    "        G.DFS() # Store each vertex from DFS-process inside the stack \n",
    "        stack = G.get_stack()\n",
    "        \n",
    "        T.init_vertex()\n",
    "        \n",
    "        while len(stack) != 0:\n",
    "            v = stack.pop()\n",
    "            u = T.id_to_v[v.get('id')]\n",
    "            \n",
    "            if u.get('color') == 'white':\n",
    "                T.T_Visit(u)\n",
    "                scc.append(T.get_stack(), G)\n",
    "                T.stack = []\n",
    "                \n",
    "        return scc\n",
    "    \n",
    "\n",
    "    def kruskal(self, G):\n",
    "        assert isinstance(G, WeightedUndirectedGraph), \"Given graph is not a weighted undirected graph\"\n",
    "        tree = MinimumSpanningTree()\n",
    "        sets = self._Sets(G.vertices)\n",
    "        \n",
    "        \n",
    "        sorted_edges = sorted(G.weights.items(), key=lambda x: x[1])\n",
    "        for ((v, u),w) in sorted_edges:\n",
    "            s1 = sets.find_set(v.get('id'))\n",
    "            s2 = sets.find_set(u.get('id'))\n",
    "            if s1 != s2:\n",
    "                tree.append(u.get('id'), v.get('id'), w)\n",
    "                sets.union_set(s1, s2)\n",
    "\n",
    "        return tree\n",
    "    \n",
    "    def dijkstra(self, G, start):\n",
    "        assert isinstance(G, WeightedDirectedGraph), \"Given graph is not a weighted directed graph\"\n",
    "        distances = {node.get('id') : float('infinity') for node in G.vertices}\n",
    "\n",
    "        distances[start] = 0 \n",
    "\n",
    "        \n",
    "        G.heap.insert(distances[start], start)\n",
    "\n",
    "        while G.heap.current_size > 0:\n",
    "            current_distance, current_destination = G.heap.delete_min()\n",
    "\n",
    "            if distances[current_destination] < current_distance:\n",
    "                continue\n",
    "\n",
    "            node = G.id_to_v[current_destination]\n",
    "            adj_v = G.vertices[node] ## adj_v = [vertex1, vertex2, ...], node = vertex0\n",
    "            weights = [G.weights[(node, v)] for v in adj_v]\n",
    "\n",
    "            for new_dest_v, new_distance in zip(adj_v, weights):\n",
    "                new_destination = new_dest_v.get('id')\n",
    "                distance = current_distance + new_distance\n",
    "\n",
    "                if distance < distances[new_destination]:\n",
    "                    distances[new_destination] = distance\n",
    "                    G.heap.insert(distance, new_destination)\n",
    "\n",
    "        return (\"Dijkstra Result\", distances)"
   ]
  },
  {
   "cell_type": "markdown",
   "metadata": {},
   "source": [
    "#### Test Kosaraju"
   ]
  },
  {
   "cell_type": "code",
   "execution_count": 70,
   "metadata": {},
   "outputs": [],
   "source": [
    "def create_graph_4():\n",
    "    G = KosarajuGraph()\n",
    "    \n",
    "    for i in ['a','b','c','d','e','f','g','h','i','j','k','l','m']:\n",
    "        G.add_vertex(Vertex(i))\n",
    "        \n",
    "    for (v1,v2) in [('a','b'),('b','c'),('c','d'), ('d','a'), ('b', 'e'),\n",
    "                    ('d','f'),('c','g'),('g','h'), ('h', 'i'),\n",
    "                   ('i','j'),('j','g'),('h','k'), ('k', 'h'), ('k', 'l'), ('l', 'm'), ('m', 'l')]:\n",
    "        \n",
    "        G.add_edge(G.id_to_v[v1],G.id_to_v[v2])\n",
    "        \n",
    "    return G    "
   ]
  },
  {
   "cell_type": "code",
   "execution_count": 71,
   "metadata": {},
   "outputs": [],
   "source": [
    "solver = Algorithms()"
   ]
  },
  {
   "cell_type": "code",
   "execution_count": 72,
   "metadata": {},
   "outputs": [],
   "source": [
    "G4 = create_graph_4()\n",
    "scc = solver.kosaraju(G4)"
   ]
  },
  {
   "cell_type": "code",
   "execution_count": 73,
   "metadata": {},
   "outputs": [
    {
     "data": {
      "text/plain": [
       "<SCC.kosaraju.Algrothms>\n",
       "# of SCC : 5\n",
       "---------\n",
       "SCC \n",
       "---------\n",
       "a -> b\n",
       "d -> a\n",
       "c -> d\n",
       "b -> c\n",
       "---------\n",
       "e\n",
       "---------\n",
       "g -> h\n",
       "j -> g\n",
       "i -> j\n",
       "h -> i\n",
       "h -> k\n",
       "k -> h\n",
       "---------\n",
       "l -> m\n",
       "m -> l\n",
       "---------\n",
       "f\n",
       "---------"
      ]
     },
     "execution_count": 73,
     "metadata": {},
     "output_type": "execute_result"
    }
   ],
   "source": [
    "scc"
   ]
  },
  {
   "cell_type": "markdown",
   "metadata": {},
   "source": [
    "#### Test Kruskal"
   ]
  },
  {
   "cell_type": "code",
   "execution_count": 74,
   "metadata": {},
   "outputs": [],
   "source": [
    "def create_graph_5():\n",
    "    G = WeightedUndirectedGraph()\n",
    "    \n",
    "    for i in ['a','b','c','d','e','f','g']:\n",
    "        G.add_vertex(Vertex(i))\n",
    "        \n",
    "    for (v1,v2,w) in [('a', 'b', 29), ('b','c',16), ('b','g',15), ('c','d',12), ('g', 'd', 18), ('d', 'e', 22), ('e', 'g', 25), ('e','f',27), ('f','a',10)]:\n",
    "        \n",
    "        G.add_edge(G.id_to_v[v1],G.id_to_v[v2], w)\n",
    "        \n",
    "    return G    "
   ]
  },
  {
   "cell_type": "code",
   "execution_count": 75,
   "metadata": {},
   "outputs": [],
   "source": [
    "G5 = create_graph_5()\n",
    "mst = solver.kruskal(G5)"
   ]
  },
  {
   "cell_type": "code",
   "execution_count": 76,
   "metadata": {},
   "outputs": [
    {
     "data": {
      "text/plain": [
       "<MST.kruskal.Algrothms>\n",
       "Total cost of MST : 102\n",
       "---------\n",
       "MST \n",
       "---------\n",
       "a --(10)-- f\n",
       "d --(12)-- c\n",
       "g --(15)-- b\n",
       "c --(16)-- b\n",
       "e --(22)-- d\n",
       "f --(27)-- e"
      ]
     },
     "execution_count": 76,
     "metadata": {},
     "output_type": "execute_result"
    }
   ],
   "source": [
    "mst"
   ]
  },
  {
   "cell_type": "markdown",
   "metadata": {},
   "source": [
    "#### Test Dijkstra"
   ]
  },
  {
   "cell_type": "code",
   "execution_count": 77,
   "metadata": {},
   "outputs": [],
   "source": [
    "def create_graph_6():\n",
    "    G = WeightedDirectedGraph()\n",
    "    \n",
    "    for i in ['a','b','c','d','e','f']:\n",
    "        G.add_vertex(Vertex(i))\n",
    "        \n",
    "    for (v1,v2,w) in [('a','b', 1), ('a','c', 4), ('a','d', 9), ('c','b', 4), ('c', 'd', 2), ('d', 'e', 10), \n",
    "                      ('d', 'f', 9), ('e','f', 4), ('f','a', 8)]:\n",
    "        \n",
    "        G.add_edge(G.id_to_v[v1],G.id_to_v[v2], w)\n",
    "        \n",
    "    return G    "
   ]
  },
  {
   "cell_type": "code",
   "execution_count": 78,
   "metadata": {},
   "outputs": [],
   "source": [
    "G6 = create_graph_6()\n",
    "result = solver.dijkstra(G6, 'a')"
   ]
  },
  {
   "cell_type": "code",
   "execution_count": 79,
   "metadata": {},
   "outputs": [
    {
     "data": {
      "text/plain": [
       "('Dijkstra Result', {'a': 0, 'b': 1, 'c': 4, 'd': 6, 'e': 16, 'f': 15})"
      ]
     },
     "execution_count": 79,
     "metadata": {},
     "output_type": "execute_result"
    }
   ],
   "source": [
    "result"
   ]
  }
 ],
 "metadata": {
  "kernelspec": {
   "display_name": "Python 3",
   "language": "python",
   "name": "python3"
  },
  "language_info": {
   "codemirror_mode": {
    "name": "ipython",
    "version": 3
   },
   "file_extension": ".py",
   "mimetype": "text/x-python",
   "name": "python",
   "nbconvert_exporter": "python",
   "pygments_lexer": "ipython3",
   "version": "3.7.4"
  }
 },
 "nbformat": 4,
 "nbformat_minor": 4
}
